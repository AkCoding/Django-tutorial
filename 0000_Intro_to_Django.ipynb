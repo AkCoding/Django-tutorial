{
 "cells": [
  {
   "cell_type": "markdown",
   "metadata": {},
   "source": [
    "\n",
    "<br>\n",
    "<img src=\"logo.png\" width=\"500\"/>\n",
    "<h1><center>The Complete Django Course</center></h1>\n",
    "\n",
    "\n",
    "Python is a **general-purpose, mordern, dynamic, robust, high level** and **interpreted** programming language. It is used in web development, machine learning, data science, creating software prototypes, and so on. Fortunately for beginners, Python has simple easy-to-use syntax. This makes Python an excellent language to learn to program for beginners."
   ]
  },
  {
   "cell_type": "markdown",
   "metadata": {},
   "source": [
    "## Table of Contents  \n",
    "\n",
    "1. **Django Introduction**\n",
    "    \n",
    "   1.1 [Django Basics](01_Django/000_Django_Basics.ipynb)\n",
    "\n",
    "   1.2 [Django Introduction and Installation](01_Django/000_Django_Introduction_and_Installation.ipynb)\n",
    "\n",
    "   1.3  [When to Use Django? Comparison with other Development Stacks](01_Django/001_When_to_Use_Django_Comparison_with_other_Development_Stacks.ipynb)\n",
    "\n",
    "   1.4  [Django Project MVT Structure](01_Django/002_Django_Project_MVT_Structure.ipynb)\n",
    "\n",
    "   1.5  [003_How to Create a Basic Project using MVT in Django ?](01_Django/003_How%20to%20Create%20a%20Basic%20Project%20using%20MVT%20in%20Django%20%3F.ipynb)\n",
    "\n",
    "   1.6  [004_How to Create an App in Django ?](01_Django/004_How%20to%20Create%20an%20App%20in%20Django%20%3F.ipynb)\n",
    "   \n",
    "\n",
    "\n",
    "2. **Django Form**\n",
    "\n",
    "  2.1 [Django Form](01_Django/005_Django_Form.ipynb)\n",
    "\n",
    "  2.2  [how to create form using django](01_Django/How%20to%20create%20a%20form%20using%20Django%20Forms.ipynb)\n",
    "\n",
    "  2.3  [Render HTML Forms (GET & POST) in Django](01_Django/Render%20HTML%20Forms%20(GET%20%26%20POST)%20in%20Django.ipynb)\n",
    "\n",
    "  2.4  [Django Form Fields](01_Python_Introduction/004_Python_Tuple.ipynb)\n",
    "\n",
    "  2.5  [Python Dictionary](01_Python_Introduction/005_Python_Dictionary.ipynb)\n",
    "\n",
    "  2.6  [Python Sets](01_Python_Introduction/006_Python_Sets.ipynb)\n",
    "  \n",
    "  "
   ]
  },
  {
   "cell_type": "code",
   "execution_count": null,
   "metadata": {},
   "outputs": [],
   "source": []
  }
 ],
 "metadata": {
  "hide_input": false,
  "kernelspec": {
   "display_name": "Python 3 (ipykernel)",
   "language": "python",
   "name": "python3"
  },
  "language_info": {
   "codemirror_mode": {
    "name": "ipython",
    "version": 3
   },
   "file_extension": ".py",
   "mimetype": "text/x-python",
   "name": "python",
   "nbconvert_exporter": "python",
   "pygments_lexer": "ipython3",
   "version": "3.8.10"
  },
  "toc": {
   "base_numbering": 1,
   "nav_menu": {},
   "number_sections": true,
   "sideBar": true,
   "skip_h1_title": false,
   "title_cell": "Table of Contents",
   "title_sidebar": "Contents",
   "toc_cell": false,
   "toc_position": {},
   "toc_section_display": true,
   "toc_window_display": false
  },
  "varInspector": {
   "cols": {
    "lenName": 16,
    "lenType": 16,
    "lenVar": 40
   },
   "kernels_config": {
    "python": {
     "delete_cmd_postfix": "",
     "delete_cmd_prefix": "del ",
     "library": "var_list.py",
     "varRefreshCmd": "print(var_dic_list())"
    },
    "r": {
     "delete_cmd_postfix": ") ",
     "delete_cmd_prefix": "rm(",
     "library": "var_list.r",
     "varRefreshCmd": "cat(var_dic_list()) "
    }
   },
   "types_to_exclude": [
    "module",
    "function",
    "builtin_function_or_method",
    "instance",
    "_Feature"
   ],
   "window_display": false
  }
 },
 "nbformat": 4,
 "nbformat_minor": 2
}
