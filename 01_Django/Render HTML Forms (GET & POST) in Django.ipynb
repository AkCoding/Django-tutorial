{
 "cells": [
  {
   "cell_type": "markdown",
   "id": "1ee497d3",
   "metadata": {},
   "source": [
    "<div class=\"article-title\"><h1>Render HTML Forms (GET &amp; POST) in Django</h1></div>"
   ]
  },
  {
   "cell_type": "markdown",
   "id": "071c220c",
   "metadata": {},
   "source": [
    "<p>Django is often called “Batteries Included Framework” because it has a default setting for everything and has features that can help anyone develop a website rapidly. Talking about forms, In HTML, a form is a collection of elements inside &lt;form&gt;…&lt;/form&gt; that allow a visitor to do things like entering text, select options, manipulate objects or controls, and so on, and then send that information back to the server. Basically, it is a collection of data for processing it for any purpose including saving it in the database or fetching data from the database. Django supports all types of HTML forms and rendering data from them to a view for processing using various logical operations.</p>"
   ]
  },
  {
   "cell_type": "markdown",
   "id": "c2e924de",
   "metadata": {},
   "source": [
    "<p>Django also provides a built-in feature of <strong>Django Forms</strong> just like <a href=\"https://www.geeksforgeeks.org/django-models-set-1/\">Django Models</a>. One can create forms in Django and use them to fetch data from the user in a convenient manner.<br>To begin with forms, one needs to be familiar with<a href=\"https://www.geeksforgeeks.org/get-post-requests-using-python/\"> GET and POST requests</a> in forms.</p>"
   ]
  },
  {
   "cell_type": "markdown",
   "id": "7408e4bf",
   "metadata": {},
   "source": [
    "<ul><li><strong>GET: </strong>GET, by contrast, bundles the submitted data into a string, and uses this to compose a URL. The URL contains the address where the data must be sent, as well as the data keys and values. You can see this in action if you do a search in the Django documentation, which will produce a URL of the form https://docs.djangoproject.com/search/?q=forms&amp;release=1.</li><li><strong>POST:</strong> Any request that could be used to change the state of the system – for example, a request that makes changes in the database – should use POST.</li></ul>"
   ]
  },
  {
   "cell_type": "markdown",
   "id": "37fce410",
   "metadata": {},
   "source": [
    "<h3>Render HTML Forms in Django Explanation</h3>"
   ]
  },
  {
   "cell_type": "markdown",
   "id": "d1690633",
   "metadata": {},
   "source": [
    "<p>Illustration of <strong>Django Forms</strong> using an Example. Consider a project named geeksforgeeks having an app named geeks.</p>"
   ]
  },
  {
   "cell_type": "markdown",
   "id": "2c4954b3",
   "metadata": {},
   "source": [
    "<blockquote><p>Refer to the following articles to check how to create a project and an app in Django.</p><ul><li><a href=\"https://www.geeksforgeeks.org/how-to-create-a-basic-project-using-mvt-in-django/\">How to Create a Basic Project using MVT in Django?</a></li><li><a href=\"https://www.geeksforgeeks.org/how-to-create-an-app-in-django/\">How to Create an App in Django ?</a></li></ul></blockquote>"
   ]
  },
  {
   "cell_type": "markdown",
   "id": "55eddcaf",
   "metadata": {},
   "source": [
    "<p>Let’s create a simple HTML form to show how can you input the data from a user and use it in your view. Enter following code in geeks &gt; templates &gt; home.html</p>"
   ]
  },
  {
   "cell_type": "code",
   "execution_count": null,
   "id": "8dd62926",
   "metadata": {},
   "outputs": [],
   "source": [
    "<form action = \"\" method = \"get\">\n",
    "    <label for=\"your_name\">Your name: </label>\n",
    "    <input id=\"your_name\" type=\"text\" name=\"your_name\">\n",
    "    <input type=\"submit\" value=\"OK\">\n",
    "</form>"
   ]
  },
  {
   "cell_type": "markdown",
   "id": "31fadf78",
   "metadata": {},
   "source": [
    "<p>Now to render it in our view we need to modify urls.py for geeks app.<br>Enter the following code in geeksforgeeks &gt; urls.py</p>"
   ]
  },
  {
   "cell_type": "code",
   "execution_count": null,
   "id": "47dbe25d",
   "metadata": {},
   "outputs": [],
   "source": [
    "from django.urls import path\n",
    " \n",
    "# importing views from views..py\n",
    "from .views import geeks_view\n",
    " \n",
    "urlpatterns = [\n",
    "    path('', home_view ),\n",
    "]"
   ]
  },
  {
   "cell_type": "markdown",
   "id": "2bda1181",
   "metadata": {},
   "source": [
    "<p>Now, let’s move to our home_view and start checking how are we going to get the data. Entire data from an HTML form in Django is transferred as a JSON object called a request. Let’s create a view first and then we will try all methods to fetch data from the form.</p>"
   ]
  },
  {
   "cell_type": "code",
   "execution_count": null,
   "id": "4f29caf0",
   "metadata": {},
   "outputs": [],
   "source": [
    "\n",
    "from django.shortcuts import render\n",
    " \n",
    "# Create your views here.\n",
    "def home_view(request):\n",
    " \n",
    "    # logic of view will be implemented here\n",
    "    return render(request, \"home.html\")"
   ]
  },
  {
   "cell_type": "markdown",
   "id": "9db35c40",
   "metadata": {},
   "source": [
    "<p>As we have everything set up let us run Python manage.py run server and check if the form is there on the home page.</p>"
   ]
  },
  {
   "cell_type": "markdown",
   "id": "bef69c0b",
   "metadata": {},
   "source": [
    "<p><img src=\"https://media.geeksforgeeks.org/wp-content/uploads/20191113100712/django-forms-python.png\" alt=\"django-forms-python\"></p>"
   ]
  },
  {
   "cell_type": "markdown",
   "id": "f84eace2",
   "metadata": {},
   "source": [
    "<p>By default every form ever written in HTML makes a GET request to the back end of an application, a GET request normally works using queries in the URL. Let’s demonstrate it using the above form, Fill up the form using your name, and let’s check what happens.</p>"
   ]
  },
  {
   "cell_type": "markdown",
   "id": "a4b9778f",
   "metadata": {},
   "source": [
    "<p>The above URL is appended with a <strong>name</strong> attribute of the input tag and the name entered in the form. This is how the GET request works whatever be the number of inputs they would be appended to the URL to send the data to the back end of an application. Let’s check how to finally get this data in our view so that logic could be applied based on input.&nbsp;<br>In views.py</p>"
   ]
  },
  {
   "cell_type": "code",
   "execution_count": 1,
   "id": "f48a8513",
   "metadata": {},
   "outputs": [],
   "source": [
    "\n",
    "from django.shortcuts import render\n",
    " \n",
    "# Create your views here.\n",
    "def home_view(request):\n",
    "    print(request.GET)\n",
    "    return render(request, \"home.html\")"
   ]
  },
  {
   "cell_type": "markdown",
   "id": "07e958af",
   "metadata": {},
   "source": [
    "<p>Now when we fill the form we can see the output in the terminal as below:</p>"
   ]
  },
  {
   "cell_type": "markdown",
   "id": "bd06d541",
   "metadata": {},
   "source": [
    "<p><img src=\"https://media.geeksforgeeks.org/wp-content/uploads/20191113103717/python-django-forms-get-request.png\" alt=\"python-django-forms-get-request\"></p>"
   ]
  },
  {
   "cell_type": "markdown",
   "id": "f7325c3c",
   "metadata": {},
   "source": [
    "<p><strong>request.GET</strong> returns a query dictionary that one can access like any other python dictionary and finally use its data for applying some logic.&nbsp;<br>Similarly, if the method of transmission is POST, you can use request.POST as query dictionary for rendering the data from the form into views.</p>"
   ]
  },
  {
   "cell_type": "markdown",
   "id": "65c9ddbf",
   "metadata": {},
   "source": [
    "<p>In <i><strong>home.html</strong></i></p>"
   ]
  },
  {
   "cell_type": "markdown",
   "id": "abe22a57",
   "metadata": {},
   "source": [
    "\n",
    "<form action = \"\" method = \"POST\">\n",
    "    {% csrf_token %}\n",
    "    <label for=\"your_name\">Your name: </label>\n",
    "    <input id=\"your_name\" type=\"text\" name=\"your_name\">\n",
    "    <input type=\"submit\" value=\"OK\">\n",
    "</form>"
   ]
  },
  {
   "cell_type": "markdown",
   "id": "5469e97c",
   "metadata": {},
   "source": [
    "<p>Note that whenever we create a form request, Django requires you to add {% csrf_token %} in form for security purposes&nbsp;<br>Now, in views.py let’s check what request.POST has got.</p>"
   ]
  },
  {
   "cell_type": "code",
   "execution_count": 2,
   "id": "a66f7be2",
   "metadata": {},
   "outputs": [],
   "source": [
    "from django.shortcuts import render\n",
    " \n",
    "# Create your views here.\n",
    "def home_view(request):\n",
    "    print(request.POST)\n",
    "    return render(request, \"home.html\")"
   ]
  },
  {
   "cell_type": "markdown",
   "id": "b4475788",
   "metadata": {},
   "source": [
    "<p>Now when we submit the form it shows the data as below.</p>"
   ]
  },
  {
   "cell_type": "markdown",
   "id": "ce1ad4de",
   "metadata": {},
   "source": [
    "<p><img src=\"https://media.geeksforgeeks.org/wp-content/uploads/20191113111555/python-django-forms-render-post-request.png\" alt=\"python-django-forms-render-post-request\"></p>"
   ]
  },
  {
   "cell_type": "markdown",
   "id": "3f0c987b",
   "metadata": {},
   "source": [
    "<p>This way one can use this data for querying into the database or for processing using some logical operation and pass using the context dictionary to the template.</p>"
   ]
  },
  {
   "cell_type": "markdown",
   "id": "b2fab68d",
   "metadata": {},
   "source": []
  },
  {
   "cell_type": "markdown",
   "id": "70b3f4be",
   "metadata": {},
   "source": []
  },
  {
   "cell_type": "markdown",
   "id": "8ebdc7b0",
   "metadata": {},
   "source": []
  },
  {
   "cell_type": "markdown",
   "id": "ebd15609",
   "metadata": {},
   "source": []
  },
  {
   "cell_type": "markdown",
   "id": "787f415c",
   "metadata": {},
   "source": []
  },
  {
   "cell_type": "markdown",
   "id": "3825a93a",
   "metadata": {},
   "source": []
  },
  {
   "cell_type": "markdown",
   "id": "21310ab2",
   "metadata": {},
   "source": []
  }
 ],
 "metadata": {
  "kernelspec": {
   "display_name": "Python 3 (ipykernel)",
   "language": "python",
   "name": "python3"
  },
  "language_info": {
   "codemirror_mode": {
    "name": "ipython",
    "version": 3
   },
   "file_extension": ".py",
   "mimetype": "text/x-python",
   "name": "python",
   "nbconvert_exporter": "python",
   "pygments_lexer": "ipython3",
   "version": "3.8.10"
  }
 },
 "nbformat": 4,
 "nbformat_minor": 5
}
