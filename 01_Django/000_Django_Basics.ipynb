{
 "cells": [
  {
   "cell_type": "markdown",
   "metadata": {},
   "source": [
    "# Django Docs \n",
    "<p>Django is a Python-based web framework which allows you to quickly create web application without all of the installation or dependency problems that you normally will find with other frameworks.<br>When you’re building a website, you always need a similar set of components: a way to handle user authentication (signing up, signing in, signing out), a management panel for your website, forms, a way to upload files, etc. Django gives you ready-made components to use.</p>"
   ]
  },
  {
   "cell_type": "markdown",
   "metadata": {},
   "source": [
    "<p><img src=\"https://media.geeksforgeeks.org/wp-content/uploads/20200210175202/django-basics.png\" alt=\"django-basics\" class=\"alignnone size-full wp-image-1516345\"></p>"
   ]
  },
  {
   "cell_type": "markdown",
   "metadata": {},
   "source": [
    "<h4>Why Django?</h4>\n",
    "\n",
    "<ul><li>Django is a rapid web development framework that can be used to develop fully fleshed web applications in a short period of time.</li><li>It’s very easy to switch database in Django framework.</li><li>It has built-in admin interface which makes easy to work with it.</li><li>Django is fully functional framework that requires nothing else.</li><li>It has thousands of additional packages available.</li><li>It is very scalable. For more visit <a href=\"https://www.geeksforgeeks.org/when-to-use-django-comparison-with-other-development-stacks/\" rel=\"noopener\" target=\"_blank\">When to Use Django? Comparison with other Development Stacks ?</a></li></ul>"
   ]
  },
  {
   "cell_type": "markdown",
   "metadata": {},
   "source": [
    "<h4>Django architecture</h4>\n",
    "<p>Django is based on MVT (Model-View-Template) architecture. MVT is a software design pattern for developing a web application.</p>\n",
    "<p>MVT Structure has the following three parts –</p>"
   ]
  },
  {
   "cell_type": "markdown",
   "metadata": {},
   "source": [
    "<p><strong>Model</strong>: Model is going to act as the interface of your data. It is responsible for maintaining data. It is the logical data structure behind the entire application and is represented by a database (generally relational databases such as MySql, Postgres).</p>"
   ]
  },
  {
   "cell_type": "markdown",
   "metadata": {},
   "source": [
    "<p><strong>View</strong>: The View is the user interface — what you see in your browser when you render a website. It is represented by HTML/CSS/Javascript and Jinja files.</p>"
   ]
  },
  {
   "cell_type": "markdown",
   "metadata": {},
   "source": [
    "<p><strong>Template</strong>: A template consists of static parts of the desired HTML output as well as some special syntax describing how dynamic content will be inserted.</p>"
   ]
  },
  {
   "cell_type": "markdown",
   "metadata": {},
   "source": [
    "<p>To check more about Django’s architecture, visit <a href=\"https://www.geeksforgeeks.org/django-project-mvt-structure/\" rel=\"noopener\" target=\"_blank\">Django Project MVT Structure</a></p>"
   ]
  },
  {
   "cell_type": "markdown",
   "metadata": {},
   "source": [
    "<h4>Installation of Django</h4>\n",
    "<li>Install python3 if not installed in your system ( according to configuration of your system and OS) from <a href=\"https://www.python.org/downloads/\" rel=\"noopener\" target=\"_blank\">here</a> . Try to download the latest version of python it’s python3.6.4 this time.</li>\n",
    "\n",
    "<p><strong>Note-</strong> Installation of Django in Linux and Mac is similar, here I am showing it in windows for Linux and mac just open terminal in place of command prompt and go through the following commands.</p>\n",
    "<li><strong>Install pip-</strong> Open command prompt and enter following command-</li>\n",
    "<pre>python -m pip install -U pip</pre>\n",
    "<li><strong>Install virtual environment- </strong>Enter following command in cmd-</li>\n",
    "<pre>pip install virtualenv</pre>\n",
    "<li><strong>Set Virtual environment-</strong> Setting up the virtual environment will allow you to edit the dependency which generally your system wouldn’t allow.<br>Follow these steps to set up a virtual environment-<p></p><ol><li>Create a virtual environment by giving this command in cmd-<pre>virtualenv env_site</pre></li><li>Change directory to env_site by this command-<pre>cd env_site</pre></li><li>Go to Script directory inside env_site and activate virtual environment-<pre>cd Scripts</pre><pre>activate</pre></li></ol></li>"
   ]
  },
  {
   "cell_type": "markdown",
   "metadata": {},
   "source": [
    "<li><strong>Install Django-</strong> Install django by giving following command-<pre>pip install django</pre></li>\n",
    "<p><img src=\"https://media.geeksforgeeks.org/wp-content/uploads/Screenshot-62-1.png\" alt=\"\" width=\"1366\" height=\"768\" class=\"alignnone size-full wp-image-299765\"></p>\n",
    "<h4>Creating a Project</h4>\n",
    "<p>Lets’ check how to create a basic project using Django after you have installed it in your pc.</p>\n"
   ]
  },
  {
   "cell_type": "markdown",
   "metadata": {},
   "source": [
    "<li>To initiate a project of Django on Your PC, open Terminal and Enter the following command<pre>django-admin startproject projectName</pre></li><li>A New Folder with name projectName will be created. To enter in the project using terminal enter command<pre>cd projectName</pre></li><p>Now run,</p><div id=\"GFG_AD_gfg_outstream_incontent\"></div><pre>Python manage.py runserver</pre><p>Now visit <a href=\"http://localhost:8000/\" rel=\"noopener\" target=\"_blank\">http://localhost:8000/</a>,<br><img src=\"https://media.geeksforgeeks.org/wp-content/uploads/20200210141248/django-basics-project.png\" alt=\"django-basics-project\" class=\"alignnone size-full wp-image-1515591\"></p><h4>Creating an App</h4><p>Django is famous for its unique and fully managed app structure. For every functionality, an app can be created like a completely independent module. This article will take you through how to create a basic app and add functionalities using that app.</p><li>To create a basic app in your Django project you need to go to directory containing<code> manage.py</code> and from there enter the command :<pre>python manage.py startapp projectApp</pre><p>Now you can see your directory structure as under :</p><p><img src=\"https://media.geeksforgeeks.org/wp-content/uploads/20190923142649/directory-structure-of-app-django.png\"></p></li>"
   ]
  },
  {
   "cell_type": "code",
   "execution_count": null,
   "metadata": {},
   "outputs": [],
   "source": [
    "\n",
    "# Application definition\n",
    "  \n",
    "INSTALLED_APPS = [\n",
    "    'django.contrib.admin',\n",
    "    'django.contrib.auth',\n",
    "    'django.contrib.contenttypes',\n",
    "    'django.contrib.sessions',\n",
    "    'django.contrib.messages',\n",
    "    'django.contrib.staticfiles',\n",
    "    'projectApp'\n",
    "]"
   ]
  },
  {
   "cell_type": "markdown",
   "metadata": {},
   "source": [
    "<li>So, we have finally created an app but to render the app using urls we need to include the app in our main project so that urls redirected to that app can be rendered. Let us explore it.<br>Move to <code>projectName-&gt; projectName -&gt; urls.py</code> and add below code in the header<p></p><pre>from django.urls import include </pre><p>Now in the list of URL patterns, you need to specify app name for including your app urls. Here is the code for it –</p></li>"
   ]
  },
  {
   "cell_type": "code",
   "execution_count": null,
   "metadata": {},
   "outputs": [],
   "source": [
    "\n",
    "from django.contrib import admin\n",
    "from django.urls import path, include\n",
    "  \n",
    "urlpatterns = [\n",
    "    path('admin/', admin.site.urls),\n",
    "    # Enter the app name in following syntax for this to work\n",
    "    path('', include(\"projectApp.urls\")),\n",
    "]"
   ]
  },
  {
   "cell_type": "markdown",
   "metadata": {},
   "source": [
    "<li>Now You can use the default MVT model to create URLs, models, views, etc. in your app and they will be automatically included in your main project.</li>"
   ]
  },
  {
   "cell_type": "markdown",
   "metadata": {},
   "source": [
    "<p>The main feature of Django Apps is independence, every app functions as an independent unit in supporting the main project. To know more about apps in Django, visit <a href=\"https://www.geeksforgeeks.org/how-to-create-an-app-in-django/\" rel=\"noopener\" target=\"_blank\">How to Create an App in Django ?</a></p>"
   ]
  },
  {
   "cell_type": "code",
   "execution_count": null,
   "metadata": {},
   "outputs": [],
   "source": []
  }
 ],
 "metadata": {
  "hide_input": false,
  "kernelspec": {
   "display_name": "Python 3 (ipykernel)",
   "language": "python",
   "name": "python3"
  },
  "language_info": {
   "codemirror_mode": {
    "name": "ipython",
    "version": 3
   },
   "file_extension": ".py",
   "mimetype": "text/x-python",
   "name": "python",
   "nbconvert_exporter": "python",
   "pygments_lexer": "ipython3",
   "version": "3.8.10"
  },
  "toc": {
   "base_numbering": 1,
   "nav_menu": {},
   "number_sections": true,
   "sideBar": true,
   "skip_h1_title": false,
   "title_cell": "Table of Contents",
   "title_sidebar": "Contents",
   "toc_cell": false,
   "toc_position": {},
   "toc_section_display": true,
   "toc_window_display": false
  },
  "varInspector": {
   "cols": {
    "lenName": 16,
    "lenType": 16,
    "lenVar": 40
   },
   "kernels_config": {
    "python": {
     "delete_cmd_postfix": "",
     "delete_cmd_prefix": "del ",
     "library": "var_list.py",
     "varRefreshCmd": "print(var_dic_list())"
    },
    "r": {
     "delete_cmd_postfix": ") ",
     "delete_cmd_prefix": "rm(",
     "library": "var_list.r",
     "varRefreshCmd": "cat(var_dic_list()) "
    }
   },
   "types_to_exclude": [
    "module",
    "function",
    "builtin_function_or_method",
    "instance",
    "_Feature"
   ],
   "window_display": false
  }
 },
 "nbformat": 4,
 "nbformat_minor": 2
}
