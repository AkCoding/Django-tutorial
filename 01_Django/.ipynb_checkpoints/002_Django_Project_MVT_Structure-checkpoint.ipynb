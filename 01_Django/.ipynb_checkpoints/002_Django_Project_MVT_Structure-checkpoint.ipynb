{
 "cells": [
  {
   "cell_type": "markdown",
   "id": "fb3d202d",
   "metadata": {},
   "source": [
    "<div class=\"text\"><p>Django is based on <strong>MVT (Model-View-Template)</strong> architecture. MVT is a software design pattern for developing a web application.&nbsp;</p><p><strong>MVT Structure has the following three parts –&nbsp;</strong></p><div id=\"GFG_AD_gfg_mobile_336x280\"></div><p><strong>Model: </strong>The model is going to act as the interface of your data. It is responsible for maintaining data. It is the logical data structure behind the entire application and is represented by a database (generally relational databases such as MySql, Postgres). To check more, visit – <a href=\"https://www.geeksforgeeks.org/django-models/\">Django Models</a>&nbsp;</p><p><strong>View:</strong> The View is the user interface — what you see in your browser when you render a website. It is represented by HTML/CSS/Javascript and Jinja files. To check more, visit – <a href=\"https://www.geeksforgeeks.org/views-in-django-python/\">Django Views</a>.&nbsp;</p><div id=\"_GFG_ABP_Incontent_728x90\" style=\"text-align:center\"><iframe src=\"https://aa.geeksforgeeks.org/iframe.html?code=GFG_ABP_Incontent_728x90\" style=\"width: 748px; height: 110px;\"></iframe></div><div id=\"GFG_AD_Desktop_InContent_ATF_336x280\"></div><p><strong>Template: </strong>A template consists of static parts of the desired HTML output as well as some special syntax describing how dynamic content will be inserted. To check more, visit – <a href=\"https://www.geeksforgeeks.org/django-templates/\">Django Templates</a>&nbsp;</p><p>&nbsp;</p><p><img src=\"https://media.geeksforgeeks.org/wp-content/uploads/20210606092225/image.png\"></p><div class=\"inArticleAds\"></div><h3>&nbsp;Project Structure :</h3><p>A Django Project when initialized contains basic files by default such as manage.py, view.py, etc. A simple project structure is enough to create a single-page application. Here are the major files and their explanations. Inside the geeks_site folder ( project folder ) there will be the following files-&nbsp;<br>&nbsp;</p><p><img src=\"https://media.geeksforgeeks.org/wp-content/uploads/Screenshot-77.png\" alt=\"\"></p><p><strong>manage.py- </strong>This file is used to interact with your project via the command line(start the server, sync the database… etc). For getting the full list of commands that can be executed by manage.py type this code in the command window-&nbsp;</p><pre>$ python manage.py help</pre><p>&nbsp;<strong>folder ( geeks_site ) – </strong>This folder contains all the packages of your project. Initially, it contains four files –&nbsp;</p><p><img src=\"https://media.geeksforgeeks.org/wp-content/uploads/Screenshot-78.png\" alt=\"\"></p><ul><li><strong>_init_.py – </strong>It is a python package. It is invoked when the package or a module in the package is imported. We usually use this to execute package initialization code, for example for the initialization of package-level data.</li><li><strong>settings.py – </strong>As the name indicates it contains all the website settings. In this file, we register any applications we create, the location of our static files, database configuration details, etc.</li><li><strong>urls.py – </strong>In this file, we store all links of the project and functions to call.</li><li><strong>wsgi.py – </strong>This file is used in deploying the project in WSGI. It is used to help your Django application communicate with the webserver.</li></ul><div class=\"textBasedMannualAds_2\"><p><a href=\"https://practice.geeksforgeeks.org/courses?utm_source=geeksforgeeks&amp;utm_medium=belowarticle_default&amp;utm_campaign=inbound_promotions\" target=\"_blank\" rel=\"noopener\"><img class=\"ad_course_banner\" src=\"https://media.geeksforgeeks.org/wp-content/post-ads-banner/2022-11-30-16-24-00-Master-Coding-Premium-In-Article.gif\" alt=\"\"></a></p></div><div id=\"personalNoteDiv\" class=\"clear hideIt\"><div class=\"personalNoteHeader clear\"><span class=\"noteHeaderText\">My Personal Notes</span>\n",
    "<span class=\"hideNotesDivIcon\"><i class=\"material-icons personalNotesIcon\" style=\"opacity: 1; width: auto;\">arrow_drop_up</i></span></div><div class=\"collapsableDivPersonalNotes\"><textarea maxlength=\"5000\" id=\"enteredPersonalNote\" class=\"personalNoteStyle\" placeholder=\"Add your personal notes here! (max 5000 chars)\"></textarea><div class=\"saveNoteDiv\"><span class=\"processSaveNote\"></span><button class=\"savePersonalNoteButton\" onclick=\"saveUserPersonalNote()\">Save</button></div></div></div></div>"
   ]
  },
  {
   "cell_type": "code",
   "execution_count": null,
   "id": "7f14d42c",
   "metadata": {},
   "outputs": [],
   "source": []
  }
 ],
 "metadata": {
  "kernelspec": {
   "display_name": "Python 3 (ipykernel)",
   "language": "python",
   "name": "python3"
  },
  "language_info": {
   "codemirror_mode": {
    "name": "ipython",
    "version": 3
   },
   "file_extension": ".py",
   "mimetype": "text/x-python",
   "name": "python",
   "nbconvert_exporter": "python",
   "pygments_lexer": "ipython3",
   "version": "3.8.10"
  }
 },
 "nbformat": 4,
 "nbformat_minor": 5
}
