{
 "cells": [
  {
   "cell_type": "markdown",
   "id": "0172623f",
   "metadata": {},
   "source": [
    "<h1>Django Forms</h1><p>When one creates a <strong>Form</strong> class, the most important part is defining the fields of the form. Each field has custom validation logic, along with a few other hooks. This article revolves around various fields one can use in a form along with various features and techniques concerned with Django Forms. Forms are basically used for taking input from the user in some manner and using that information for logical operations on databases. For example, Registering a user by taking input as his name, email, password, etc.</p><p>Django maps the fields defined in Django forms into HTML input fields. Django handles three distinct parts of the work involved in forms:</p><ul><li>preparing and restructuring data to make it ready for rendering</li><li>creating HTML forms for the data</li><li>receiving and processing submitted forms and data from the client</li></ul>"
   ]
  },
  {
   "cell_type": "markdown",
   "id": "f1dd80d9",
   "metadata": {},
   "source": [
    "<p><img src=\"https://media.geeksforgeeks.org/wp-content/uploads/20200107124202/flowChart-1-1024x682.png\" alt=\"flowChart-1\"></p>"
   ]
  },
  {
   "cell_type": "markdown",
   "id": "6d039b27",
   "metadata": {},
   "source": [
    "<p>Note that all types of work done by Django forms can be done with advanced HTML stuff, but Django makes it easier and efficient especially the validation part. Once you get hold of Django forms you will just forget about HTML forms.</p>"
   ]
  },
  {
   "cell_type": "markdown",
   "id": "b43ee265",
   "metadata": {},
   "source": [
    "<p><strong>Syntax :&nbsp; </strong>Django Fields work like Django Model Fields and have the syntax:</p>"
   ]
  },
  {
   "cell_type": "markdown",
   "id": "d8f6303e",
   "metadata": {},
   "source": [
    "<pre> field_name = forms.<a target=\"_blank\" rel=\"noopener noreferrer nofollow\" href=\"#Field-types\">FieldType</a>(**options) </pre>"
   ]
  },
  {
   "cell_type": "markdown",
   "id": "41594a1c",
   "metadata": {},
   "source": [
    "<p><strong>Example:</strong></p>"
   ]
  },
  {
   "cell_type": "markdown",
   "id": "d292eff2",
   "metadata": {},
   "source": []
  },
  {
   "cell_type": "markdown",
   "id": "7761ab5d",
   "metadata": {},
   "source": []
  },
  {
   "cell_type": "markdown",
   "id": "b94a3a68",
   "metadata": {},
   "source": []
  },
  {
   "cell_type": "markdown",
   "id": "7a3d5606",
   "metadata": {},
   "source": []
  },
  {
   "cell_type": "markdown",
   "id": "f023d32d",
   "metadata": {},
   "source": []
  },
  {
   "cell_type": "markdown",
   "id": "2376841f",
   "metadata": {},
   "source": []
  },
  {
   "cell_type": "markdown",
   "id": "bdcf7517",
   "metadata": {},
   "source": []
  },
  {
   "cell_type": "markdown",
   "id": "702f9962",
   "metadata": {},
   "source": []
  },
  {
   "cell_type": "markdown",
   "id": "8d6c0ab7",
   "metadata": {},
   "source": []
  },
  {
   "cell_type": "markdown",
   "id": "d7a03c38",
   "metadata": {},
   "source": []
  },
  {
   "cell_type": "markdown",
   "id": "5640e665",
   "metadata": {},
   "source": []
  },
  {
   "cell_type": "markdown",
   "id": "b63a2921",
   "metadata": {},
   "source": []
  },
  {
   "cell_type": "markdown",
   "id": "68ba3327",
   "metadata": {},
   "source": []
  },
  {
   "cell_type": "markdown",
   "id": "5a676e67",
   "metadata": {},
   "source": []
  },
  {
   "cell_type": "markdown",
   "id": "f406ac69",
   "metadata": {},
   "source": []
  },
  {
   "cell_type": "markdown",
   "id": "7b510790",
   "metadata": {},
   "source": []
  },
  {
   "cell_type": "markdown",
   "id": "c8fdd247",
   "metadata": {},
   "source": []
  },
  {
   "cell_type": "markdown",
   "id": "b3d0dbbb",
   "metadata": {},
   "source": []
  }
 ],
 "metadata": {
  "kernelspec": {
   "display_name": "Python 3 (ipykernel)",
   "language": "python",
   "name": "python3"
  },
  "language_info": {
   "codemirror_mode": {
    "name": "ipython",
    "version": 3
   },
   "file_extension": ".py",
   "mimetype": "text/x-python",
   "name": "python",
   "nbconvert_exporter": "python",
   "pygments_lexer": "ipython3",
   "version": "3.8.10"
  }
 },
 "nbformat": 4,
 "nbformat_minor": 5
}
