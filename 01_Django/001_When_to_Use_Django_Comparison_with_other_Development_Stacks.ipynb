{
 "cells": [
  {
   "cell_type": "markdown",
   "metadata": {},
   "source": [
    "<p><strong>When to Use Django and Why?</strong>&nbsp;</p>\n",
    "<p>After getting to know the basics of <a href=\"https://www.geeksforgeeks.org/python-programming-language/\">Python</a>, one should know when to use Django and why?&nbsp;<br>Django is a high-level python based web framework which allows you to quickly create web applications without all of the installation or dependency problems that you normally will find with other frameworks.&nbsp;</p><p>One should be using Django for web development in the following cases:&nbsp;</p><ul><li>For developing a Web Application or API Backend.</li><li>For Rapid Development of some web application.</li><li>Deploying the application Fast and Scaling it according to your needs</li><li>A Perfect ORM for working with databases instead of database queries</li><li>To develop a secure single-page application for either retrieving data or posting data.<br>&nbsp;</li></ul><figure class=\"table\"><div class=\"inArticleAds\"></div><table><thead><tr><th><p style=\"text-align:center\">Django</p></th><th><p style=\"text-align:center\">MEAN/MERN</p></th><th><p style=\"text-align:center\">Spring</p></th></tr></thead><tbody><tr><td>Python</td><td>JavaScript</td><td>Java</td></tr><tr><td>Open Source</td><td>NoSQL Databases</td><td>Open Source</td></tr><tr><td>Great Community</td><td>Modularity</td><td>Powerful</td></tr><tr><td>Easy to Learn</td><td>Mongoose</td><td>Dependency Injection</td></tr><tr><td>MVT Based</td><td>Organized</td><td>Stability</td></tr><tr><td>Batteries Included Framework</td><td>Dynamic Front End</td><td>MVC</td></tr></tbody></table></figure><h4>Django is a good choice when:</h4><p>1.You need to build a robust, scalable web application with a lot of data. Django’s built-in ORM (Object-Relational Mapping) and support for database migrations make it easy to work with large amounts of data, and its built-in admin interface makes it easy to manage that data.<br>2.You need to build an application with a lot of user-facing functionality. Django’s built-in forms, authentication, and authorization make it easy to implement user registration, login, and other common functionality.<br>3.You need to get an application up and running quickly. Django’s “batteries-included” philosophy means that it comes with a lot of built-in functionality, so you can get an application up and running quickly without having to write a lot of boilerplate code.<br>4.You want to use Python for your backend. Since Django is built on Python, it’s a natural choice if you’re already familiar with the language or want to use it for your backend.</p>"
   ]
  },
  {
   "cell_type": "markdown",
   "metadata": {},
   "source": [
    "<h4>When compared to other development stacks, Django may not be the best choice for certain types of projects. For example:</h4>\n",
    "<p>1.If you’re building a small, simple website or a single-page application (SPA), a JavaScript-based framework like React or Angular might be a better choice.<br>2.If you’re building a real-time, highly-concurrent application, a framework like Node.js might be a better choice since it is built on an event-driven, non-blocking I/O model.<br>3.If you’re building a mobile application, you’ll probably want to use a mobile-specific framework like React Native or Xamarin.<br>Ultimately, the choice of web development stack will depend on the specific requirements of your project and your team’s expertise. Django is a great choice for many types of web applications, but it may not be the best choice for every project.</p>"
   ]
  },
  {
   "cell_type": "markdown",
   "metadata": {},
   "source": [
    "<h3>Here is an example of a simple Django view function that handles a GET request and returns a template:</h3>"
   ]
  },
  {
   "cell_type": "code",
   "execution_count": null,
   "metadata": {},
   "outputs": [],
   "source": [
    "from django.shortcuts import render\n",
    "\n",
    "def my_view(request):\n",
    "    if request.method == 'GET':\n",
    "        return render(request, 'mytemplate.html')"
   ]
  },
  {
   "cell_type": "markdown",
   "metadata": {},
   "source": [
    "<p>In this example, the my_view function is handling a GET request and using the render shortcut function to return the mytemplate.html template. The template will be rendered with the context data supplied by the view.</p><p>Here is an example of a view that handles a POST request and performs some action with the data:</p>"
   ]
  },
  {
   "cell_type": "code",
   "execution_count": null,
   "metadata": {},
   "outputs": [],
   "source": [
    "from django.shortcuts import render, redirect\n",
    "from .models import MyModel\n",
    "\n",
    "def my_view(request):\n",
    "    if request.method == 'POST':\n",
    "        form = MyForm(request.POST)\n",
    "        if form.is_valid():\n",
    "            data = form.cleaned_data\n",
    "            MyModel.objects.create(**data)\n",
    "            return redirect('success_page')\n",
    "    else:\n",
    "        form = MyForm()\n",
    "    return render(request, 'mytemplate.html', {'form': form})"
   ]
  },
  {
   "cell_type": "markdown",
   "metadata": {},
   "source": [
    "<p>In this example, the view is handling a POST request, it creates an instance of MyForm with the data from the request, it validates the form and if it’s valid, it creates an object with MyModel with the cleaned data. After that, it redirects the user to a success page.<br>If the request method is GET, it creates an empty form and render the template passing the form as context data.</p><p>Please note that you need to have the necessary imports and correctly set up models and forms for the above examples to work.<br>Also, Django views can also be written as class-based views which are more powerful and flexible.</p>"
   ]
  },
  {
   "cell_type": "markdown",
   "metadata": {},
   "source": [
    "<h3>Also check –</h3><ul><li><a href=\"https://www.geeksforgeeks.org/django-project-mvt-structure/\">Django Project MVT Structure</a></li><li><a href=\"https://www.geeksforgeeks.org/how-to-create-a-basic-project-using-mvt-in-django/\">How to Create a Basic Project using MVT in Django ?</a></li></ul>"
   ]
  },
  {
   "cell_type": "markdown",
   "metadata": {},
   "source": [
    "<h3>Companies using Django:</h3><ul><li>Instagram</li><li>Disqus</li><li>Pinterest</li><li>Mozilla Firefox</li><li>Spotify</li><li>YouTube</li></ul>"
   ]
  },
  {
   "cell_type": "markdown",
   "metadata": {},
   "source": [
    "<p><strong>Conclusion :&nbsp;</strong><br>Django is a rapid web development framework and if you want to get your application built fast within a few days, there is no better framework than Django Web Framework. Django gives all the features included, also called “Batteries Included Framework”. It has a built-in admin interface which makes it easy to work with it.<br>&nbsp;</p>"
   ]
  },
  {
   "cell_type": "markdown",
   "metadata": {},
   "source": []
  }
 ],
 "metadata": {
  "hide_input": false,
  "kernelspec": {
   "display_name": "Python 3 (ipykernel)",
   "language": "python",
   "name": "python3"
  },
  "language_info": {
   "codemirror_mode": {
    "name": "ipython",
    "version": 3
   },
   "file_extension": ".py",
   "mimetype": "text/x-python",
   "name": "python",
   "nbconvert_exporter": "python",
   "pygments_lexer": "ipython3",
   "version": "3.8.10"
  },
  "toc": {
   "base_numbering": 1,
   "nav_menu": {},
   "number_sections": true,
   "sideBar": true,
   "skip_h1_title": false,
   "title_cell": "Table of Contents",
   "title_sidebar": "Contents",
   "toc_cell": false,
   "toc_position": {},
   "toc_section_display": true,
   "toc_window_display": false
  },
  "varInspector": {
   "cols": {
    "lenName": 16,
    "lenType": 16,
    "lenVar": 40
   },
   "kernels_config": {
    "python": {
     "delete_cmd_postfix": "",
     "delete_cmd_prefix": "del ",
     "library": "var_list.py",
     "varRefreshCmd": "print(var_dic_list())"
    },
    "r": {
     "delete_cmd_postfix": ") ",
     "delete_cmd_prefix": "rm(",
     "library": "var_list.r",
     "varRefreshCmd": "cat(var_dic_list()) "
    }
   },
   "types_to_exclude": [
    "module",
    "function",
    "builtin_function_or_method",
    "instance",
    "_Feature"
   ],
   "window_display": false
  }
 },
 "nbformat": 4,
 "nbformat_minor": 2
}
