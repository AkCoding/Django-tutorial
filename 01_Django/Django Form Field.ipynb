{
 "cells": [
  {
   "cell_type": "markdown",
   "id": "d0abe623",
   "metadata": {},
   "source": [
    "<h1>Django Forms</h1>"
   ]
  },
  {
   "cell_type": "markdown",
   "id": "1194c47d",
   "metadata": {},
   "source": [
    "<p>When one creates a <strong>Form</strong> class, the most important part is defining the fields of the form. Each field has custom validation logic, along with a few other hooks. This article revolves around various fields one can use in a form along with various features and techniques concerned with Django Forms. Forms are basically used for taking input from the user in some manner and using that information for logical operations on databases. For example, Registering a user by taking input as his name, email, password, etc.</p>"
   ]
  },
  {
   "cell_type": "markdown",
   "id": "af3df5f8",
   "metadata": {},
   "source": [
    "<p>Django maps the fields defined in Django forms into HTML input fields. Django handles three distinct parts of the work involved in forms:</p>"
   ]
  },
  {
   "cell_type": "markdown",
   "id": "27388bfe",
   "metadata": {},
   "source": [
    "<ul><li>preparing and restructuring data to make it ready for rendering</li><li>creating HTML forms for the data</li><li>receiving and processing submitted forms and data from the client</li></ul>"
   ]
  },
  {
   "cell_type": "markdown",
   "id": "2593783b",
   "metadata": {},
   "source": [
    "<p><img src=\"https://media.geeksforgeeks.org/wp-content/uploads/20200107124202/flowChart-1-1024x682.png\" alt=\"flowChart-1\"></p>"
   ]
  },
  {
   "cell_type": "markdown",
   "id": "0620dec9",
   "metadata": {},
   "source": [
    "<p>Note that all types of work done by Django forms can be done with advanced HTML stuff, but Django makes it easier and efficient especially the validation part. Once you get hold of Django forms you will just forget about HTML forms.</p>"
   ]
  },
  {
   "cell_type": "markdown",
   "id": "4b6c179c",
   "metadata": {},
   "source": [
    "<div id=\"_GFG_ABP_Incontent_728x90\" style=\"text-align:center\"><iframe src=\"https://aa.geeksforgeeks.org/iframe.html?code=GFG_ABP_Incontent_728x90\" style=\"width: 748px; height: 110px;\"></iframe></div>"
   ]
  },
  {
   "cell_type": "markdown",
   "id": "58d73302",
   "metadata": {},
   "source": [
    "<p><strong>Syntax :&nbsp; </strong>Django Fields work like Django Model Fields and have the syntax:</p>"
   ]
  },
  {
   "cell_type": "markdown",
   "id": "17d32cf2",
   "metadata": {},
   "source": [
    "<pre> field_name = forms.<a target=\"_blank\" rel=\"noopener noreferrer nofollow\" href=\"#Field-types\">FieldType</a>(**options) </pre>"
   ]
  },
  {
   "cell_type": "markdown",
   "id": "1b66d2e4",
   "metadata": {},
   "source": [
    "<p><strong>Example:</strong></p>"
   ]
  },
  {
   "cell_type": "code",
   "execution_count": null,
   "id": "240b08bd",
   "metadata": {},
   "outputs": [],
   "source": [
    "\n",
    "from django import forms\n",
    " \n",
    "# creating a form\n",
    "class GeeksForm(forms.Form):\n",
    "    title = forms.CharField()\n",
    "    description = forms.CharField()"
   ]
  },
  {
   "cell_type": "markdown",
   "id": "366699bb",
   "metadata": {},
   "source": [
    "<h2>Using Django Forms</h2>"
   ]
  },
  {
   "cell_type": "markdown",
   "id": "522b2c44",
   "metadata": {},
   "source": [
    "<p>To use Django Forms, one needs to have a project and an app working in it. After you start an app you can create a form in app/forms.py. Before starting to use a form let’s check how to start a project and implement Django Forms.</p>"
   ]
  },
  {
   "cell_type": "markdown",
   "id": "9f0f5db3",
   "metadata": {},
   "source": [
    "<h3>Creating a Django Form</h3>"
   ]
  },
  {
   "cell_type": "markdown",
   "id": "a7e7d78a",
   "metadata": {},
   "source": [
    "<p>Creating a form in Django is completely similar to creating a model, one needs to specify what fields would exist in the form and of what type. For example, to input, a registration form one might need First Name (CharField), Roll Number (IntegerField), and so on.&nbsp;</p>"
   ]
  },
  {
   "cell_type": "markdown",
   "id": "82edf91e",
   "metadata": {},
   "source": [
    "<p><strong>Syntax:</strong>&nbsp;</p>"
   ]
  },
  {
   "cell_type": "markdown",
   "id": "53adba9b",
   "metadata": {},
   "source": [
    "<pre>from django import forms\n",
    "        \n",
    "class FormName(forms.Form):\n",
    "         # each field would be mapped as an input field in HTML\n",
    "        field_name = forms.Field(**options)</pre>"
   ]
  },
  {
   "cell_type": "markdown",
   "id": "b9b7f6c9",
   "metadata": {},
   "source": [
    "<p>To create a form, in geeks/forms.py Enter the code,</p>"
   ]
  },
  {
   "cell_type": "code",
   "execution_count": null,
   "id": "95d61248",
   "metadata": {},
   "outputs": [],
   "source": [
    "# import the standard Django Forms\n",
    "# from built-in library\n",
    "from django import forms\n",
    "\n",
    "# creating a form\n",
    "class InputForm(forms.Form):\n",
    "\n",
    "\tfirst_name = forms.CharField(max_length = 200)\n",
    "\tlast_name = forms.CharField(max_length = 200)\n",
    "\troll_number = forms.IntegerField(\n",
    "\t\t\t\t\thelp_text = \"Enter 6 digit roll number\"\n",
    "\t\t\t\t\t)\n",
    "\tpassword = forms.CharField(widget = forms.PasswordInput())\n"
   ]
  },
  {
   "cell_type": "markdown",
   "id": "21e77b0e",
   "metadata": {},
   "source": [
    "<h3>Render Django Forms</h3>"
   ]
  },
  {
   "cell_type": "markdown",
   "id": "a7e502a1",
   "metadata": {},
   "source": [
    "<p>Django form fields have several built-in methods to ease the work of the developer but sometimes one needs to implement things manually for customizing User Interface(UI). A form comes with 3 in-built methods that can be used to render Django form fields.&nbsp;</p>"
   ]
  },
  {
   "cell_type": "markdown",
   "id": "85f8f3c0",
   "metadata": {},
   "source": [
    "<ul><li><a href=\"https://www.geeksforgeeks.org/form-as_table-render-django-forms-as-table/\">{{ form.as_table }}</a> will render them as table cells wrapped in &lt;tr&gt; tags</li><li><a href=\"https://www.geeksforgeeks.org/form-as_p-render-django-forms-as-paragraph/\">{{ form.as_p }}</a> will render them wrapped in &lt;p&gt; tags</li><li><a href=\"https://www.geeksforgeeks.org/form-as_ul-render-django-forms-as-list/\">{{ form.as_ul }}</a> will render them wrapped in &lt;li&gt; tags</li></ul>"
   ]
  },
  {
   "cell_type": "markdown",
   "id": "e9cae4a5",
   "metadata": {},
   "source": [
    "<p>To render this form into a view, move to views.py and create a home_view as below.&nbsp;</p>"
   ]
  },
  {
   "cell_type": "code",
   "execution_count": null,
   "id": "a1d1ec1f",
   "metadata": {},
   "outputs": [],
   "source": [
    "from django.shortcuts import render\n",
    "from .forms import InputForm\n",
    " \n",
    "# Create your views here.\n",
    "def home_view(request):\n",
    "    context ={}\n",
    "    context['form']= InputForm()\n",
    "    return render(request, \"home.html\", context)"
   ]
  },
  {
   "cell_type": "markdown",
   "id": "d71c37f2",
   "metadata": {},
   "source": [
    "<p>In view, one needs to just create an instance of the form class created above in forms.py. Now let’s edit templates &gt; home.html&nbsp;</p>"
   ]
  },
  {
   "cell_type": "code",
   "execution_count": null,
   "id": "cf9e6d02",
   "metadata": {},
   "outputs": [],
   "source": [
    "<form action = \"\" method = \"post\">\n",
    "    {% csrf_token %}\n",
    "    {{form }}\n",
    "    <input type=\"submit\" value=Submit\">\n",
    "</form>"
   ]
  },
  {
   "cell_type": "markdown",
   "id": "034d6d30",
   "metadata": {},
   "source": [
    "<p>Now, visit <a target=\"_blank\" rel=\"noopener noreferrer nofollow\" href=\"http://localhost:8000/\">http://localhost:8000/</a></p>"
   ]
  },
  {
   "cell_type": "markdown",
   "id": "585beea9",
   "metadata": {},
   "source": [
    "<p><img src=\"https://media.geeksforgeeks.org/wp-content/uploads/20191113140709/create-django-form.png\" alt=\"create-django-form\"></p>"
   ]
  },
  {
   "cell_type": "markdown",
   "id": "db884ee4",
   "metadata": {},
   "source": [
    "<p>.&nbsp;<br>To check how to use the data rendered by Django Forms visit <a href=\"https://www.geeksforgeeks.org/render-django-form-fields-manually/\">Render Django Form Fields</a>&nbsp;</p>"
   ]
  },
  {
   "cell_type": "markdown",
   "id": "8a06e0ff",
   "metadata": {},
   "source": [
    "<h3>Create Django Form from Models</h3>"
   ]
  },
  {
   "cell_type": "markdown",
   "id": "c82039d0",
   "metadata": {},
   "source": [
    "<p>Django ModelForm is a class that is used to directly convert a model into a Django form. If you’re building a database-driven app, chances are you’ll have forms that map closely to Django models. Now when we have our project ready, create a model in geeks/models.py,</p>"
   ]
  },
  {
   "cell_type": "code",
   "execution_count": null,
   "id": "34957e55",
   "metadata": {},
   "outputs": [],
   "source": [
    "\n",
    "# import the standard Django Model\n",
    "# from built-in library\n",
    "from django.db import models\n",
    "   \n",
    "# declare a new model with a name \"GeeksModel\"\n",
    "class GeeksModel(models.Model):\n",
    "        # fields of the model\n",
    "    title = models.CharField(max_length = 200)\n",
    "    description = models.TextField()\n",
    "    last_modified = models.DateTimeField(auto_now_add = True)\n",
    "    img = models.ImageField(upload_to = \"images/\")\n",
    "   \n",
    "        # renames the instances of the model\n",
    "        # with their title name\n",
    "    def __str__(self):\n",
    "        return self.title"
   ]
  },
  {
   "cell_type": "markdown",
   "id": "751d04d8",
   "metadata": {},
   "source": [
    "<p>To create a form directly for this model, dive into geeks/forms.py and Enter the following code:</p>"
   ]
  },
  {
   "cell_type": "code",
   "execution_count": 1,
   "id": "9ddef6a5",
   "metadata": {},
   "outputs": [
    {
     "ename": "ImportError",
     "evalue": "attempted relative import with no known parent package",
     "output_type": "error",
     "traceback": [
      "\u001b[0;31m---------------------------------------------------------------------------\u001b[0m",
      "\u001b[0;31mImportError\u001b[0m                               Traceback (most recent call last)",
      "Input \u001b[0;32mIn [1]\u001b[0m, in \u001b[0;36m<cell line: 5>\u001b[0;34m()\u001b[0m\n\u001b[1;32m      2\u001b[0m \u001b[38;5;28;01mfrom\u001b[39;00m \u001b[38;5;21;01mdjango\u001b[39;00m \u001b[38;5;28;01mimport\u001b[39;00m forms\n\u001b[1;32m      4\u001b[0m \u001b[38;5;66;03m# import GeeksModel from models.py\u001b[39;00m\n\u001b[0;32m----> 5\u001b[0m \u001b[38;5;28;01mfrom\u001b[39;00m \u001b[38;5;21;01m.\u001b[39;00m\u001b[38;5;21;01mmodels\u001b[39;00m \u001b[38;5;28;01mimport\u001b[39;00m GeeksModel\n\u001b[1;32m      7\u001b[0m \u001b[38;5;66;03m# create a ModelForm\u001b[39;00m\n\u001b[1;32m      8\u001b[0m \u001b[38;5;28;01mclass\u001b[39;00m \u001b[38;5;21;01mGeeksForm\u001b[39;00m(forms\u001b[38;5;241m.\u001b[39mModelForm):\n\u001b[1;32m      9\u001b[0m     \u001b[38;5;66;03m# specify the name of model to use\u001b[39;00m\n",
      "\u001b[0;31mImportError\u001b[0m: attempted relative import with no known parent package"
     ]
    }
   ],
   "source": [
    "# import form class from django\n",
    "from django import forms\n",
    "  \n",
    "# import GeeksModel from models.py\n",
    "from .models import GeeksModel\n",
    "  \n",
    "# create a ModelForm\n",
    "class GeeksForm(forms.ModelForm):\n",
    "    # specify the name of model to use\n",
    "    class Meta:\n",
    "        model = GeeksModel\n",
    "        fields = \"__all__\""
   ]
  },
  {
   "cell_type": "markdown",
   "id": "4532ff10",
   "metadata": {},
   "source": [
    "<p>Now visit <a target=\"_blank\" rel=\"noopener noreferrer nofollow\" href=\"http://127.0.0.1:8000/\">http://127.0.0.1:8000/</a>,&nbsp;</p>"
   ]
  },
  {
   "cell_type": "markdown",
   "id": "85ba5b67",
   "metadata": {},
   "source": [
    "<h3>More on Django Forms:</h3>"
   ]
  },
  {
   "cell_type": "markdown",
   "id": "0276cd2b",
   "metadata": {},
   "source": [
    "<ul><li><a href=\"https://www.geeksforgeeks.org/render-html-forms-get-post-in-django/\">Render HTML Forms (GET &amp; POST) in Django</a></li><li><a href=\"https://geeksforgeeks.org/form-as_p-render-django-forms-as-paragraph/\">{{ form.as_p }} – Render Django Forms as paragraph</a></li><li><a href=\"https://geeksforgeeks.org/form-as_table-render-django-forms-as-table/\">{{ form.as_table }} – Render Django Forms as table</a></li><li><a href=\"https://geeksforgeeks.org/form-as_ul-render-django-forms-as-list/\">{{ form.as_ul }} – Render Django Forms as list</a></li><li><a href=\"https://www.geeksforgeeks.org/django-form-field-custom-widgets/\">Django form field custom widgets</a></li><li><a href=\"https://www.geeksforgeeks.org/python-form-validation-using-django/\">Python | Form validation using django</a></li><li><a href=\"https://geeksforgeeks.org/django-modelform-create-form-from-models/\">Django ModelForm – Create form from Models</a></li><li><a href=\"https://write.geeksforgeeks.org/render-django-form-fields-manually/\">Render Django Form Fields Manually</a></li><li><a href=\"https://www.geeksforgeeks.org/django-formsets/\">Django Formsets</a></li><li><a href=\"https://write.geeksforgeeks.org/django-modelformsets/\">Django ModelFormSets</a></li></ul>"
   ]
  },
  {
   "cell_type": "markdown",
   "id": "e10d9fe4",
   "metadata": {},
   "source": [
    "<h3>Basic form data types and fields list</h3>"
   ]
  },
  {
   "cell_type": "markdown",
   "id": "aed41e68",
   "metadata": {},
   "source": [
    "<p>The most important part of a form and the only required part is the list of fields it defines. Fields are specified by class attributes. Here is a list of all Form Field types used in Django</p>/"
   ]
  },
  {
   "cell_type": "markdown",
   "id": "30f613da",
   "metadata": {},
   "source": [
    "<figure class=\"table\"><table><thead><tr><th>Name</th><th>Class</th><th>HTML Input</th></tr></thead><tbody><tr><td><a href=\"https://www.geeksforgeeks.org/booleanfield-django-forms/\">BooleanField</a></td><td>class BooleanField(**kwargs)</td><td>CheckboxInput</td></tr><tr><td><a href=\"https://www.geeksforgeeks.org/charfield-django-forms/\">CharField</a></td><td>class CharField(**kwargs)</td><td>TextInput</td></tr><tr><td><a href=\"https://www.geeksforgeeks.org/choicefield-django-forms/\">ChoiceField</a></td><td>class ChoiceField(**kwargs)</td><td>Select</td></tr><tr><td><a href=\"https://www.geeksforgeeks.org/typedchoicefield-django-forms/\">TypedChoiceField</a></td><td>class TypedChoiceField(**kwargs)</td><td>Select</td></tr><tr><td><a href=\"https://www.geeksforgeeks.org/datefield-django-forms/\">DateField</a></td><td>class DateField(**kwargs)</td><td>DateInput</td></tr><tr><td><a href=\"https://www.geeksforgeeks.org/datetimefield-django-forms/\">DateTimeField</a></td><td>class DateTimeField(**kwargs)</td><td>DateTimeInput</td></tr><tr><td><a href=\"https://www.geeksforgeeks.org/decimalfield-django-forms/\">DecimalField</a></td><td>class DecimalField(**kwargs)</td><td>NumberInput when Field.localize is False, else TextInput</td></tr><tr><td><a href=\"https://www.geeksforgeeks.org/durationfield-django-forms/\">DurationField</a></td><td>class DurationField(**kwargs)</td><td>TextInput</td></tr><tr><td><a href=\"https://www.geeksforgeeks.org/emailfield-django-forms/\">EmailField</a></td><td>class EmailField(**kwargs</td><td>EmailInput</td></tr><tr><td><a href=\"https://www.geeksforgeeks.org/filefield-django-forms/\">FileField</a></td><td>class FileField(**kwargs)</td><td>ClearableFileInput</td></tr><tr><td><a href=\"https://www.geeksforgeeks.org/filepathfield-django-forms/\">FilePathField</a></td><td>class FilePathField(**kwargs)</td><td>Select</td></tr><tr><td><a href=\"https://www.geeksforgeeks.org/floatfield-django-forms/\">FloatField</a></td><td>class FloatField(**kwargs)</td><td>NumberInput when Field.localize is False, else TextInput</td></tr><tr><td><a href=\"https://www.geeksforgeeks.org/imagefield-django-forms/\">ImageField</a></td><td>class ImageField(**kwargs)</td><td>ClearableFileInput</td></tr><tr><td><a href=\"https://www.geeksforgeeks.org/integerfield-django-forms/\">IntegerField</a></td><td>class IntegerField(**kwargs)</td><td>NumberInput when Field.localize is False, else TextInput</td></tr><tr><td><a href=\"https://www.geeksforgeeks.org/genericipaddressfield-django-forms/\">GenericIPAddressField</a></td><td>class GenericIPAddressField(**kwargs)</td><td>TextInput</td></tr><tr><td><a href=\"https://www.geeksforgeeks.org/multiplechoicefield-django-forms/\">MultipleChoiceField</a></td><td>class MultipleChoiceField(**kwargs)</td><td>SelectMultiple</td></tr><tr><td><a href=\"https://www.geeksforgeeks.org/typedmultiplechoicefield-django-forms/\">TypedMultipleChoiceField</a></td><td>class TypedMultipleChoiceField(**kwargs)</td><td>SelectMultiple</td></tr><tr><td><a href=\"https://www.geeksforgeeks.org/nullbooleanfield-django-forms/\">NullBooleanField</a></td><td>class NullBooleanField(**kwargs)</td><td>NullBooleanSelect</td></tr><tr><td><a href=\"https://www.geeksforgeeks.org/regexfield-django-forms/\">RegexField</a></td><td>class RegexField(**kwargs)</td><td>TextInput</td></tr><tr><td><a href=\"https://www.geeksforgeeks.org/slugfield-django-models/\">SlugField</a></td><td>class SlugField(**kwargs)</td><td>TextInput</td></tr><tr><td><a href=\"https://www.geeksforgeeks.org/timefield-django-forms/\">TimeField</a></td><td>class TimeField(**kwargs)</td><td>TimeInput</td></tr><tr><td><a href=\"https://www.geeksforgeeks.org/urlfield-django-forms/\">URLField</a></td><td>class URLField(**kwargs)</td><td>URLInput</td></tr><tr><td><a href=\"https://www.geeksforgeeks.org/uuidfield-django-forms/\">UUIDField</a></td><td>class UUIDField(**kwargs)</td><td>TextInput</td></tr></tbody></table></figure>"
   ]
  },
  {
   "cell_type": "markdown",
   "id": "3bc0fa66",
   "metadata": {},
   "source": [
    "<h3>Core Field Arguments</h3>"
   ]
  },
  {
   "cell_type": "markdown",
   "id": "39cf513a",
   "metadata": {},
   "source": [
    "<p>Core Field arguments are the arguments given to each field for applying some constraint or imparting a particular characteristic to a particular Field. For example, adding an argument required = False to CharField will enable it to be left blank by the user. Each Field class constructor takes at least these arguments. Some Field classes take additional, field-specific arguments, but the following should always be accepted:</p>"
   ]
  },
  {
   "cell_type": "markdown",
   "id": "70af0c20",
   "metadata": {},
   "source": [
    "<p>.math-table { border-collapse: collapse; width: 100%; } .math-table td { border: 1px solid #5fb962; text-align: left !important; padding: 8px; } .math-table th { border: 1px solid #5fb962; padding: 8px; } .math-table tr&gt;th{ background-color: #c6ebd9; vertical-align: middle; } .math-table tr:nth-child(odd) { background-color: #ffffff; }</p>"
   ]
  },
  {
   "cell_type": "markdown",
   "id": "c2392cbf",
   "metadata": {},
   "source": [
    "<figure class=\"table\"><table><thead><tr><th>Field Options</th><th>Description</th></tr></thead><tbody><tr><td><a href=\"https://www.geeksforgeeks.org/required-django-form-field-validation/\">required</a></td><td>By default, each Field class assumes the value is required, so to make it not required you need to set required=False</td></tr><tr><td><a href=\"https://www.geeksforgeeks.org/label-django-form-field-validation/\">label</a></td><td>The label argument lets you specify the “human-friendly” label for this field. This is used when the Field is displayed in a Form.</td></tr><tr><td><a href=\"https://www.geeksforgeeks.org/label-django-form-field-validation/\">label_suffix</a></td><td>The label_suffix argument lets you override the form’s <a target=\"_blank\" rel=\"noopener noreferrer nofollow\" href=\"https://docs.djangoproject.com/en/2.2/ref/forms/fields/#label-suffix\">label_suffix</a> on a per-field basis.</td></tr><tr><td><a href=\"https://www.geeksforgeeks.org/django-form-field-custom-widgets/\">widget</a></td><td>The widget argument lets you specify a Widget class to use when rendering this Field. See <a target=\"_blank\" rel=\"noopener noreferrer nofollow\" href=\"https://docs.djangoproject.com/en/2.2/ref/forms/widgets/\">Widgets</a> for more information.</td></tr><tr><td><a href=\"https://www.geeksforgeeks.org/help_text-django-form-field-validation/\">help_text</a></td><td>The help_text argument lets you specify descriptive text for this Field. If you provide help_text, it will be displayed next to the Field when the Field is rendered by one of the convenience Form methods.&nbsp;<br>&nbsp;</td></tr><tr><td><a href=\"https://www.geeksforgeeks.org/error_messages-django-form-field-validation/\">error_messages</a></td><td>The error_messages argument lets you override the default messages that the field will raise. Pass in a dictionary with keys matching the error messages you want to override.</td></tr><tr><td><a href=\"https://www.geeksforgeeks.org/django-form-field-custom-widgets/\">validators</a></td><td>The validators argument lets you provide a list of validation functions for this field.&nbsp;<br>&nbsp;</td></tr><tr><td><a target=\"_blank\" rel=\"noopener noreferrer nofollow\" href=\"http://localize\">localize</a></td><td>The localize argument enables the localization of form data input, as well as the rendered output.</td></tr><tr><td><a href=\"https://www.geeksforgeeks.org/disabled-django-form-field-validation/\">disabled</a>.</td><td>The disabled boolean argument, when set to True, disables a form field using the disabled HTML attribute so that it won’t be editable by users.&nbsp;<br>&nbsp;</td></tr></tbody></table></figure>"
   ]
  },
  {
   "cell_type": "markdown",
   "id": "286cbc96",
   "metadata": {},
   "source": []
  }
 ],
 "metadata": {
  "kernelspec": {
   "display_name": "Python 3 (ipykernel)",
   "language": "python",
   "name": "python3"
  },
  "language_info": {
   "codemirror_mode": {
    "name": "ipython",
    "version": 3
   },
   "file_extension": ".py",
   "mimetype": "text/x-python",
   "name": "python",
   "nbconvert_exporter": "python",
   "pygments_lexer": "ipython3",
   "version": "3.8.10"
  }
 },
 "nbformat": 4,
 "nbformat_minor": 5
}
