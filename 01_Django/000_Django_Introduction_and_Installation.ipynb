{
 "cells": [
  {
   "cell_type": "markdown",
   "metadata": {},
   "source": [
    "<article class=\"content post-174042 post type-post status-publish format-standard hentry category-python tag-python-django\" id=\"post-174042\"><div style=\"position:relative\"><div class=\"article-title\"><h1>Django Introduction and Installation</h1></div><div class=\"article_button_copy\"><div class=\"article-buttons\"><div pid=\"174042\" ptitle=\"Django Introduction and Installation\" class=\"article--viewer_improve tooltip\"><span \n",
    "<button onclick=\"improveArticleCall()\">\n",
    "<i class=\"gfg-icon gfg-icon_edit\"></i></button></div><div pid=\"174042\" class=\"article--viewer_bookmark tooltip\"><span class=\"tooltiptext\">Save Article</span>\n",
    "<button data-gfg-action=\"bookmark-article\" data-bookmark-value=\"0\">\n",
    "<i class=\"gfg-icon gfg-icon_bookmark\"></i></button></div></div></div><script>$('#practice-tab-main').show(),$('#video-tab-main').show(),$('#courses-tab-main').show(),companyTagsArray=JSON.parse('[]'),categoryTagsArray=JSON.parse('[\"python\"]')</script><div class=\"text\"><h4>What is Django?</h4><p>Django is a Python-based web framework which allows you to quickly create web application without all of the installation or dependency problems that you normally will find with other frameworks.<br>When you’re building a website, you always need a similar set of components: a way to handle user authentication (signing up, signing in, signing out), a management panel for your website, forms, a way to upload files, etc. Django gives you ready-made components to use.</p><h4>Why Django?</h4><ol><li>It’s very easy to switch database in Django framework.</li><li>It has built-in admin interface which makes easy to work with it.</li><li>Django is fully functional framework that requires nothing else.</li><li>It has thousands of additional packages available.</li><li>It is very scalable.</li></ol><h4>Popularity of Django</h4><p>Django is used in many popular sites like as: Disqus, Instagram, Knight Foundation, MacArthur Foundation, Mozilla, National Geographic etc. There are more than 5k online sites based on the Django framework. ( Source )<br>Sites like Hot Frameworks assess the popularity of a framework by counting the number of GitHub projects and StackOverflow questions for each platform, here Django is in 6th position. Web frameworks often refer to themselves as “opinionated” or “un-opinionated” based on opinions about the right way to handle any particular task. Django is somewhat opinionated, hence delivers the in both worlds( opinionated &amp; un-opinionated ).</p><div id=\"GFG_AD_gfg_mobile_336x280\"></div><h4>Features of Django</h4><p><strong>Versatility of Django</strong><br>Django can build almost any type of website. It can also work with any client-side framework and can deliver content in any format such as HTML, JSON, XML etc. Some sites which can be built using Django are wikis, social networks, new sites etc.</p><p><strong>Security</strong><br>Since Django framework is made for making web development easy, it has been engineered in such a way that it automatically do the right things to protect the website. For example, In the Django framework instead of putting a password in cookies, the hashed password is stored in it so that it can’t be fetched easily by hackers.</p><div id=\"_GFG_ABP_Incontent_728x90\" style=\"text-align:center\"><iframe src=\"https://aa.geeksforgeeks.org/iframe.html?code=GFG_ABP_Incontent_728x90\" style=\"width: 748px; height: 110px;\"></iframe></div><div id=\"GFG_AD_Desktop_InContent_ATF_336x280\"></div><p><strong>Scalability</strong><br>Django web nodes have no stored state, they scale horizontally – just fire up more of them when you need them. Being able to do this is the essence of good scalability. Instagram and Disqus are two Django based products that have millions of active users, this is taken as an example of the scalability of Django.</p><p><strong>Portability</strong><br>All the codes of the Django framework are written in Python, which runs on many platforms. Which leads to run Django too in many platforms such as Linux, Windows and Mac OS.</p><p><strong>Installation of Django</strong></p><div class=\"inArticleAds\"></div><ul><li>Install python3 if not installed in your system ( according to configuration of your system and OS) from <a href=\"https://www.python.org/downloads/\" rel=\"noopener\" target=\"_blank\">here</a> . Try to download the latest version of python it’s python 3.11.0 this time.</li><p><strong>Note-</strong> Installation of Django in Linux and Mac is similar, here I am showing it in windows for Linux and mac just open terminal in place of command prompt and go through the following commands.</p><li><strong>Install pip-</strong> Open command prompt and enter following command-</li><pre>python -m pip install -U pip</pre><p><img src=\"https://media.geeksforgeeks.org/wp-content/uploads/Screenshot-55-1.png\" alt=\"django-introduction\" class=\"alignnone size-full wp-image-299756\"></p><li><strong>Install virtual environment- </strong>Enter following command in cmd-</li><pre>pip install virtualenv</pre><p><img src=\"https://media.geeksforgeeks.org/wp-content/uploads/Screenshot-56-1.png\" alt=\"django-introduce\" class=\"alignnone size-full wp-image-299757\"></p><li><strong>Set Virtual environment-</strong> Setting up the virtual environment will allow you to edit the dependency which generally your system wouldn’t allow.<br>Follow these steps to set up a virtual environment-<p></p><ol><li>Create a virtual environment by giving this command in cmd-<pre>virtualenv env_site</pre></li><p><img src=\"https://media.geeksforgeeks.org/wp-content/uploads/Screenshot-57-1.png\" alt=\"django-installation\" class=\"alignnone size-full wp-image-299760\"></p><li>Change directory to env_site by this command-<pre>cd env_site</pre></li><p><img src=\"https://media.geeksforgeeks.org/wp-content/uploads/Screenshot-58-3.png\" alt=\"django-install\" class=\"alignnone size-full wp-image-299761\"></p><div id=\"GFG_AD_gfg_outstream_incontent\"></div><li>Go to Scripts directory inside env_site and activate virtual environment-<pre>cd Scripts</pre><pre>activate</pre></li><p><img src=\"https://media.geeksforgeeks.org/wp-content/uploads/Screenshot-60-2.png\" alt=\"django-introduction-installation\" class=\"alignnone size-full wp-image-299764\"></p></ol></li><li><strong>Install Django-</strong> Install django by giving following command-<pre>pip install django</pre></li><p><img src=\"https://media.geeksforgeeks.org/wp-content/uploads/Screenshot-62-1.png\" alt=\"django-basics\" class=\"alignnone size-full wp-image-299765\"></p><li>Return to the env_site directory-<pre>cd ..</pre></li><p><img src=\"https://media.geeksforgeeks.org/wp-content/uploads/Screenshot-63-1.png\" alt=\"django\" class=\"alignnone size-full wp-image-299766\"></p><li>Start a project by following command-<pre>django-admin startproject geeks_site</pre></li><p><img src=\"https://media.geeksforgeeks.org/wp-content/uploads/Screenshot-64-1.png\" alt=\"django-introduction-install\" class=\"alignnone size-full wp-image-299767\"></p><li>Change directory to geeks_site<pre>cd geeks_site</pre></li><p><img src=\"https://media.geeksforgeeks.org/wp-content/uploads/Screenshot-65.png\" alt=\"django-introduction-project\" class=\"alignnone size-full wp-image-299768\"></p><li><strong>Start the server- </strong>Start the server by typing following command in cmd-<pre>python manage.py runserver</pre></li><p><img src=\"https://media.geeksforgeeks.org/wp-content/uploads/Screenshot-66-1.png\" alt=\"\" width=\"1366\" height=\"768\" class=\"alignnone size-full wp-image-299769\"></p><li>To check whether server is running or not go to web browser and enter <strong>http://127.0.0.1:8000/</strong> as url.</li><p><img src=\"https://media.geeksforgeeks.org/wp-content/uploads/Screenshot-67.png\" alt=\"\" width=\"1366\" height=\"768\" class=\"alignnone size-full wp-image-299771\"></p><p><b>Benefits of Django Architecture –</b></p><ul><li>Rapid Development</li><li>Loosely Coupled</li><li>Ease of Modification</li></ul><p><b>Drawbacks of MVC Architecture –</b></p><ul><li>Too much load on Model Component</li><li>Development Complexity is high</li><li>Two components are controlling View</li></ul><div class=\"textBasedMannualAds_2\"></div></article>"
   ]
  },
  {
   "cell_type": "markdown",
   "metadata": {},
   "source": []
  },
  {
   "cell_type": "code",
   "execution_count": null,
   "metadata": {},
   "outputs": [],
   "source": []
  },
  {
   "cell_type": "code",
   "execution_count": null,
   "metadata": {},
   "outputs": [],
   "source": []
  }
 ],
 "metadata": {
  "hide_input": false,
  "kernelspec": {
   "display_name": "Python 3 (ipykernel)",
   "language": "python",
   "name": "python3"
  },
  "language_info": {
   "codemirror_mode": {
    "name": "ipython",
    "version": 3
   },
   "file_extension": ".py",
   "mimetype": "text/x-python",
   "name": "python",
   "nbconvert_exporter": "python",
   "pygments_lexer": "ipython3",
   "version": "3.8.10"
  },
  "toc": {
   "base_numbering": 1,
   "nav_menu": {},
   "number_sections": true,
   "sideBar": true,
   "skip_h1_title": false,
   "title_cell": "Table of Contents",
   "title_sidebar": "Contents",
   "toc_cell": false,
   "toc_position": {},
   "toc_section_display": true,
   "toc_window_display": false
  },
  "varInspector": {
   "cols": {
    "lenName": 16,
    "lenType": 16,
    "lenVar": 40
   },
   "kernels_config": {
    "python": {
     "delete_cmd_postfix": "",
     "delete_cmd_prefix": "del ",
     "library": "var_list.py",
     "varRefreshCmd": "print(var_dic_list())"
    },
    "r": {
     "delete_cmd_postfix": ") ",
     "delete_cmd_prefix": "rm(",
     "library": "var_list.r",
     "varRefreshCmd": "cat(var_dic_list()) "
    }
   },
   "types_to_exclude": [
    "module",
    "function",
    "builtin_function_or_method",
    "instance",
    "_Feature"
   ],
   "window_display": false
  }
 },
 "nbformat": 4,
 "nbformat_minor": 2
}
