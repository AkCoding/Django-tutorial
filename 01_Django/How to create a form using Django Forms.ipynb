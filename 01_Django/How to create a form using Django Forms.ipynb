{
 "cells": [
  {
   "cell_type": "markdown",
   "id": "ee959fcc",
   "metadata": {},
   "source": [
    "<div class=\"article-title\"><h1>How to create a form using Django Forms ?</h1></div>"
   ]
  },
  {
   "cell_type": "markdown",
   "id": "01ed106b",
   "metadata": {},
   "source": [
    "<p>Django forms are an advanced set of HTML forms that can be created using python and support all features of HTML forms in a pythonic way. This post revolves around how to create a basic form using various Form Fields and attributes. Creating a form in Django is completely similar to creating a model, one needs to specify what fields would exist in the form and of what type. For example, to input, a registration form one might need First Name (CharField), Roll Number (IntegerField), and so on.<br>&nbsp;</p>"
   ]
  },
  {
   "cell_type": "markdown",
   "id": "df9958ca",
   "metadata": {},
   "source": [
    "<h3>Creating a form using Django Forms</h3>"
   ]
  },
  {
   "cell_type": "markdown",
   "id": "18d429c7",
   "metadata": {},
   "source": [
    "<p>Illustration of <strong>Django Forms</strong> using an Example. Consider a project named geeksforgeeks having an app named geeks.&nbsp;</p><blockquote><p>Refer to the following articles to check how to create a project and an app in Django.&nbsp;<br>&nbsp;</p><ul><li><a href=\"https://www.geeksforgeeks.org/how-to-create-a-basic-project-using-mvt-in-django/\">How to Create a Basic Project using MVT in Django?</a></li><li><a href=\"https://www.geeksforgeeks.org/how-to-create-an-app-in-django/\">How to Create an App in Django ?</a></li></ul></blockquote><p>In your geeks app make a new file called forms.py where you would be making all your forms. To create a Django form you need to use <a target=\"_blank\" rel=\"noopener noreferrer nofollow\" href=\"https://docs.djangoproject.com/en/2.2/topics/forms/#the-django-form-class\">Django Form Class</a>. Let’s demonstrate it.<br>&nbsp;</p>"
   ]
  },
  {
   "cell_type": "markdown",
   "id": "8bc94ef8",
   "metadata": {},
   "source": [
    "<p>In your forms.py Enter the following,&nbsp;</p>"
   ]
  },
  {
   "cell_type": "code",
   "execution_count": null,
   "id": "5cd89106",
   "metadata": {},
   "outputs": [],
   "source": [
    "from django import forms\n",
    " \n",
    "# creating a form\n",
    "class InputForm(forms.Form):\n",
    " \n",
    "    first_name = forms.CharField(max_length = 200)\n",
    "    last_name = forms.CharField(max_length = 200)\n",
    "    roll_number = forms.IntegerField(\n",
    "                     help_text = \"Enter 6 digit roll number\"\n",
    "                     )\n",
    "    password = forms.CharField(widget = forms.PasswordInput())"
   ]
  },
  {
   "cell_type": "markdown",
   "id": "1750c331",
   "metadata": {},
   "source": [
    "<p>Let’s explain what exactly is happening, left side denotes the name of the field and to the right of it, you define various functionalities of an input field correspondingly. A field’s syntax is denoted as&nbsp;</p>"
   ]
  },
  {
   "cell_type": "markdown",
   "id": "4f254811",
   "metadata": {},
   "source": [
    "<p><strong>Syntax :</strong>&nbsp;</p><pre>Field_name = forms.FieldType(attributes)</pre><p>Now to render this form into a view, move to views.py and create a home_view as below.&nbsp;</p>"
   ]
  },
  {
   "cell_type": "code",
   "execution_count": null,
   "id": "558397d8",
   "metadata": {},
   "outputs": [],
   "source": [
    "from django.shortcuts import render\n",
    "from .forms import InputForm\n",
    " \n",
    "# Create your views here.\n",
    "def home_view(request):\n",
    "    context ={}\n",
    "    context['form']= InputForm()\n",
    "    return render(request, \"home.html\", context)"
   ]
  },
  {
   "cell_type": "markdown",
   "id": "16b20c39",
   "metadata": {},
   "source": [
    "<p>In view, one needs to just create an instance of the form class created above in forms.py. Now let’s edit templates &gt; home.html&nbsp;</p>"
   ]
  },
  {
   "cell_type": "code",
   "execution_count": null,
   "id": "720f1aa4",
   "metadata": {},
   "outputs": [],
   "source": [
    "\n",
    "<form action = \"\" method = \"post\">\n",
    "    {% csrf_token %}\n",
    "    {{form }}\n",
    "    <input type=\"submit\" value=Submit\">\n",
    "</form>"
   ]
  },
  {
   "cell_type": "markdown",
   "id": "31f2dfc0",
   "metadata": {},
   "source": [
    "<p>All set to check if the form is working or not let’s visit <a target=\"_blank\" rel=\"noopener noreferrer nofollow\" href=\"http://localhost:8000/\">http://localhost:8000/</a>&nbsp;</p>"
   ]
  },
  {
   "cell_type": "markdown",
   "id": "1e715bdb",
   "metadata": {},
   "source": [
    "<p><img src=\"https://media.geeksforgeeks.org/wp-content/uploads/20191113140709/create-django-form.png\" alt=\"create-django-form\"></p>"
   ]
  },
  {
   "cell_type": "markdown",
   "id": "32583faf",
   "metadata": {},
   "source": [
    "<p>The form is working properly but visuals are disappointing, Django provides some predefined ways to show forms in a convenient manner. In templates, the following will modify the inputs as,&nbsp;</p>"
   ]
  },
  {
   "cell_type": "markdown",
   "id": "c1210721",
   "metadata": {},
   "source": [
    "<ul><li><a href=\"https://www.geeksforgeeks.org/form-as_table-render-django-forms-as-table/\">{{ form.as_table }}</a> will render them as table cells wrapped in &lt;tr&gt; tags</li><li><a href=\"https://www.geeksforgeeks.org/form-as_p-render-django-forms-as-paragraph/\">{{ form.as_p }}</a> will render them wrapped in &lt;p&gt; tags</li><li><a href=\"https://www.geeksforgeeks.org/form-as_ul-render-django-forms-as-list/\">{{ form.as_ul }}</a> will render them wrapped in &lt;li&gt; tags</li></ul>"
   ]
  },
  {
   "cell_type": "markdown",
   "id": "98a44a0a",
   "metadata": {},
   "source": [
    "<p>One can modify these settings also and show fields as he wants using {{ form.field_name }} but this may alter the normal process of validation if some field is empty and hence needs extraordinary care. More – <a href=\"https://www.geeksforgeeks.org/django-forms/\">Django Forms</a></p>"
   ]
  },
  {
   "cell_type": "markdown",
   "id": "526bca76",
   "metadata": {},
   "source": []
  },
  {
   "cell_type": "markdown",
   "id": "89fe6bb5",
   "metadata": {},
   "source": []
  },
  {
   "cell_type": "markdown",
   "id": "5ca9e2ba",
   "metadata": {},
   "source": []
  },
  {
   "cell_type": "markdown",
   "id": "3d0b54f8",
   "metadata": {},
   "source": []
  }
 ],
 "metadata": {
  "kernelspec": {
   "display_name": "Python 3 (ipykernel)",
   "language": "python",
   "name": "python3"
  },
  "language_info": {
   "codemirror_mode": {
    "name": "ipython",
    "version": 3
   },
   "file_extension": ".py",
   "mimetype": "text/x-python",
   "name": "python",
   "nbconvert_exporter": "python",
   "pygments_lexer": "ipython3",
   "version": "3.8.10"
  }
 },
 "nbformat": 4,
 "nbformat_minor": 5
}
