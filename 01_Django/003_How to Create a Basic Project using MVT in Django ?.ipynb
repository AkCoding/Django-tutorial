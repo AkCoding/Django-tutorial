{
 "cells": [
  {
   "cell_type": "markdown",
   "id": "b9ce8aa6",
   "metadata": {},
   "source": [
    "<h1>How to Create a Basic Project using MVT in Django ?</h1>\n",
    "<p>Assuming you have gone through the previous article. This article focuses on creating a basic project to render a template using MVT architecture. We will use MVT (Models, Views, Templates) to render data to a local server.<br>&nbsp;</p><p><strong>Create a basic Project:&nbsp;</strong></p><ul><li>To initiate a project of Django on Your PC, open Terminal and Enter the following command&nbsp;</li></ul><pre>django-admin startproject projectName</pre><ul><li>A New Folder with the name <i>projectName </i>will be created. To enter in the project using the terminal enter command&nbsp;</li></ul><pre>cd projectName</pre><ul><li>Create a new file <strong>views.py</strong> inside the project folder where settings.py, urls.py and other files are stored and save the following code in it-&nbsp;</li></ul>"
   ]
  },
  {
   "cell_type": "code",
   "execution_count": null,
   "id": "d682c061",
   "metadata": {},
   "outputs": [],
   "source": [
    "\n",
    "# HttpResponse is used to\n",
    "# pass the information\n",
    "# back to view\n",
    "from django.http import HttpResponse\n",
    " \n",
    "# Defining a function which\n",
    "# will receive request and\n",
    "# perform task depending\n",
    "# upon function definition\n",
    "def hello_geeks (request) :\n",
    " \n",
    "    # This will return Hello Geeks\n",
    "    # string as HttpResponse\n",
    "    return HttpResponse(\"Hello Geeks\")"
   ]
  },
  {
   "cell_type": "markdown",
   "id": "dad817f0",
   "metadata": {},
   "source": [
    "<p><img src=\"https://media.geeksforgeeks.org/wp-content/uploads/Screenshot-72.png\" alt=\"\"></p><ul><li>Open <strong>urls.py</strong> inside project folder (projectName) and add your entry-&nbsp;<ul><li>Import <strong>hello_geeks</strong> function from views.py file.&nbsp;</li></ul></li></ul><pre>from projectName.views import hello_geeks</pre><p><img src=\"https://media.geeksforgeeks.org/wp-content/uploads/Screenshot-73.png\" alt=\"\"></p><ul><li>Add an entry in url field inside url patterns-&nbsp;</li></ul><pre>path('geek/', hello_geeks), </pre><p><img src=\"https://media.geeksforgeeks.org/wp-content/uploads/Screenshot-74.png\" alt=\"\"></p><ul><li>Now to run the server follow these steps-&nbsp;<ul><li>Open command prompt and change directory to env_site by this command-&nbsp;</li></ul></li></ul><pre>$ cd env_site</pre><ul><li>Go to Script directory inside env_site and activate virtual environment-&nbsp;</li></ul><pre>$ cd Script</pre><pre>$ activate</pre><ul><li>Return to the env_site directory and goto the project directory-&nbsp;</li></ul><pre>$ cd ..</pre><pre>$ cd geeks_site</pre><ul><li><strong>Start the server- </strong>Start the server by typing following command in cmd-&nbsp;</li></ul><pre>$ python manage.py runserver</pre><ul><li><strong>Checking – </strong>Open the browser and type this url-&nbsp;</li></ul><pre>http://127.0.0.1:8000/geek/</pre><p><img src=\"https://media.geeksforgeeks.org/wp-content/uploads/Screenshot-75.png\" alt=\"\"></p>"
   ]
  },
  {
   "cell_type": "markdown",
   "id": "39bf9532",
   "metadata": {},
   "source": []
  }
 ],
 "metadata": {
  "kernelspec": {
   "display_name": "Python 3 (ipykernel)",
   "language": "python",
   "name": "python3"
  },
  "language_info": {
   "codemirror_mode": {
    "name": "ipython",
    "version": 3
   },
   "file_extension": ".py",
   "mimetype": "text/x-python",
   "name": "python",
   "nbconvert_exporter": "python",
   "pygments_lexer": "ipython3",
   "version": "3.8.10"
  }
 },
 "nbformat": 4,
 "nbformat_minor": 5
}
