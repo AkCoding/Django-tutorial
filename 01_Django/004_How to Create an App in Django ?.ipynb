{
 "cells": [
  {
   "cell_type": "markdown",
   "id": "e8733710",
   "metadata": {},
   "source": [
    "<div class=\"article-title\"><h1>How to Create an App in Django ?</h1></div>"
   ]
  },
  {
   "cell_type": "markdown",
   "id": "01606d95",
   "metadata": {},
   "source": [
    "<p>Django is famous for its unique and fully managed app structure. For every functionality, an app can be created like a completely independent module. This article will take you through how to create a basic app and add functionalities using that app.<br>For example, if you are creating a Blog, Separate modules should be created for Comments, Posts, Login/Logout, etc. In Django, these modules are known as apps. There is a different app for each task.&nbsp;</p>"
   ]
  },
  {
   "cell_type": "markdown",
   "id": "e33fe875",
   "metadata": {},
   "source": [
    "<h3>Benefits of using Django apps –</h3>"
   ]
  },
  {
   "cell_type": "markdown",
   "id": "e26defbb",
   "metadata": {},
   "source": [
    "<ul><li>Django apps are reusable i.e. a Django app can be used with multiple projects.</li><li>We have loosely coupled i.e. almost independent components</li><li>Multiple developers can work on different components</li><li>Debugging and code organization is easy. Django has an excellent debugger tool.</li><li>It has in-built features like admin pages etc, which reduces the effort of building the same from scratch</li></ul>"
   ]
  },
  {
   "cell_type": "markdown",
   "id": "2f0cc266",
   "metadata": {},
   "source": [
    "<p><strong>Pre-installed apps –</strong>&nbsp;</p><p>Django provides some pre-installed apps for users. To see pre-installed apps, navigate to projectName –&gt; projectName –&gt; settings.py&nbsp;<br>In your settings.py file, you will find INSTALLED_APPS. Apps listed in INSTALLED_APPS are provided by Django for the developer’s comfort.&nbsp;</p>"
   ]
  },
  {
   "cell_type": "markdown",
   "id": "25b3b865",
   "metadata": {},
   "source": [
    "<p style=\"text-align:center\"><img src=\"https://media.geeksforgeeks.org/wp-content/uploads/20190923140305/Screenshot-from-2019-09-23-14-02-16.png\"></p>"
   ]
  },
  {
   "cell_type": "markdown",
   "id": "a4e19540",
   "metadata": {},
   "source": [
    "<p style=\"text-align:justify\">Also, Visit :<a href=\"https://www.geeksforgeeks.org/django-orm-inserting-updating-deleting-data/\">Django ORM – Inserting, Updating &amp; Deleting Data</a>&nbsp;</p>"
   ]
  },
  {
   "cell_type": "markdown",
   "id": "9eeef0f6",
   "metadata": {},
   "source": [
    "<h3>Creating an App in Django :</h3><p>Let us start building an app.&nbsp;</p><h3><strong><u>Method-1</u></strong></h3><ul><li>To create a basic app in your Django project you need to go to the directory containing manage.py and from there enter the command :</li></ul>"
   ]
  },
  {
   "cell_type": "markdown",
   "id": "5a0b5340",
   "metadata": {},
   "source": [
    "<pre>python manage.py startapp projectApp</pre>"
   ]
  },
  {
   "cell_type": "markdown",
   "id": "7a75d7f5",
   "metadata": {},
   "source": [
    "<h3>&nbsp;<strong><u>Method-2</u></strong></h3>"
   ]
  },
  {
   "cell_type": "markdown",
   "id": "3e94131e",
   "metadata": {},
   "source": [
    "<ul><li>To create a basic app in your Django project you need to go to the directory containing manage.py and from there enter the command :</li></ul><pre>django-admin startapp projectApp</pre>"
   ]
  },
  {
   "cell_type": "markdown",
   "id": "9af9e9c4",
   "metadata": {},
   "source": [
    "<ul><li>Now you can see your directory structure as under :</li></ul><p style=\"text-align:center\"><img src=\"https://media.geeksforgeeks.org/wp-content/uploads/20190923142649/directory-structure-of-app-django.png\"></p><p>To consider the app in your project you need to specify your project name in INSTALLED_APPS list as follows in settings.py:</p>"
   ]
  },
  {
   "cell_type": "code",
   "execution_count": null,
   "id": "9eb2209c",
   "metadata": {},
   "outputs": [],
   "source": [
    "\n",
    "# Application definition\n",
    " \n",
    "INSTALLED_APPS = [\n",
    "    'django.contrib.admin',\n",
    "    'django.contrib.auth',\n",
    "    'django.contrib.contenttypes',\n",
    "    'django.contrib.sessions',\n",
    "    'django.contrib.messages',\n",
    "    'django.contrib.staticfiles',\n",
    "    'projectApp'\n",
    "]"
   ]
  },
  {
   "cell_type": "markdown",
   "id": "09c05103",
   "metadata": {},
   "source": [
    "<p>So, we have finally created an app but to render the app using URLs we need to include the app in our main project so that URLs redirected to that app can be rendered. Let us explore it.&nbsp;<br>Move to projectName -&gt; projectName -&gt; urls.py and add below code in the header</p><pre>from django.urls import include</pre><p>Now in the list of URL patterns, you need to specify the app name for including your app URLs. Here is the code for it –</p>"
   ]
  },
  {
   "cell_type": "code",
   "execution_count": null,
   "id": "6a300eda",
   "metadata": {},
   "outputs": [],
   "source": [
    "\n",
    "from django.contrib import admin\n",
    "from django.urls import path, include\n",
    " \n",
    "urlpatterns = [\n",
    "    path('admin/', admin.site.urls),\n",
    "    # Enter the app name in following\n",
    "    # syntax for this to work\n",
    "    path('', include(\"projectApp.urls\")),\n",
    "]"
   ]
  },
  {
   "cell_type": "markdown",
   "id": "8734174b",
   "metadata": {},
   "source": [
    "<ul><li>Now You can use the default MVT model to create URLs, models, views, etc. in your app and they will be automatically included in your main project.</li></ul><p>The main feature of Django Apps is independence, every app functions as an independent unit in supporting the main project.&nbsp;</p><p>Now the urls.py in the project file will not access the app’s url.</p><p>To run your Django Web application properly the following actions must be taken:-</p><p>1. Create a file in the apps directory called urls.py</p><p>2. Include the following code:</p>"
   ]
  },
  {
   "cell_type": "code",
   "execution_count": null,
   "id": "6db8748d",
   "metadata": {},
   "outputs": [],
   "source": [
    "from django.urls import path\n",
    "#now import the views.py file into this code\n",
    "from . import views\n",
    "urlpatterns=[\n",
    "  path('',views.index)\n",
    "]"
   ]
  },
  {
   "cell_type": "markdown",
   "id": "49b1a224",
   "metadata": {},
   "source": [
    "<p>The above code will call or invoke the function which is defined in the views.py file so that it can be seen properly in the Web browser. Here it is assumed that views.py contains the following code :-&nbsp;</p>"
   ]
  },
  {
   "cell_type": "code",
   "execution_count": null,
   "id": "cf23eb5f",
   "metadata": {},
   "outputs": [],
   "source": [
    "from django.http import HttpResponse\n",
    " \n",
    "\n",
    "def index(request):\n",
    "  return HttpResponse(\"Hello Geeks\")"
   ]
  },
  {
   "cell_type": "markdown",
   "id": "32d15830",
   "metadata": {},
   "source": [
    "<p>After adding the above code, go to the settings.py file which is in the project directory, and change the value of ROOT_URLCONF from ‘project.urls’ to ‘app.urls’</p>"
   ]
  },
  {
   "cell_type": "markdown",
   "id": "e1128744",
   "metadata": {},
   "source": [
    "<p>From this:-</p>"
   ]
  },
  {
   "cell_type": "markdown",
   "id": "1269c6cc",
   "metadata": {},
   "source": [
    "<p><img src=\"https://media.geeksforgeeks.org/wp-content/uploads/20211205141859/Screenshot16.png\"></p>"
   ]
  },
  {
   "cell_type": "markdown",
   "id": "93020d8d",
   "metadata": {},
   "source": [
    "<p>To this:</p><p><img src=\"https://media.geeksforgeeks.org/wp-content/uploads/20211205144006/Screenshot17-200x37.png\"></p>"
   ]
  },
  {
   "cell_type": "markdown",
   "id": "2f209fc5",
   "metadata": {},
   "source": [
    "<p>3. And then you can run the server(127.0.0.1:8000) and you will get the desired output</p>"
   ]
  },
  {
   "cell_type": "markdown",
   "id": "fca154b8",
   "metadata": {},
   "source": []
  },
  {
   "cell_type": "markdown",
   "id": "94ccad80",
   "metadata": {},
   "source": []
  },
  {
   "cell_type": "markdown",
   "id": "bde0c6da",
   "metadata": {},
   "source": []
  },
  {
   "cell_type": "markdown",
   "id": "2369cfbb",
   "metadata": {},
   "source": []
  },
  {
   "cell_type": "markdown",
   "id": "3cc797a4",
   "metadata": {},
   "source": []
  },
  {
   "cell_type": "markdown",
   "id": "49a63276",
   "metadata": {},
   "source": []
  },
  {
   "cell_type": "markdown",
   "id": "d4383f4a",
   "metadata": {},
   "source": []
  },
  {
   "cell_type": "markdown",
   "id": "4e504441",
   "metadata": {},
   "source": []
  },
  {
   "cell_type": "markdown",
   "id": "e8c5c9c8",
   "metadata": {},
   "source": []
  },
  {
   "cell_type": "markdown",
   "id": "e34e472a",
   "metadata": {},
   "source": []
  },
  {
   "cell_type": "markdown",
   "id": "bd9438bb",
   "metadata": {},
   "source": []
  },
  {
   "cell_type": "markdown",
   "id": "0e8d50ae",
   "metadata": {},
   "source": []
  },
  {
   "cell_type": "markdown",
   "id": "ee2d2bf4",
   "metadata": {},
   "source": []
  },
  {
   "cell_type": "markdown",
   "id": "5412dff8",
   "metadata": {},
   "source": []
  },
  {
   "cell_type": "markdown",
   "id": "e2ac5334",
   "metadata": {},
   "source": []
  },
  {
   "cell_type": "markdown",
   "id": "dff5ed9e",
   "metadata": {},
   "source": []
  },
  {
   "cell_type": "markdown",
   "id": "29279b42",
   "metadata": {},
   "source": []
  },
  {
   "cell_type": "markdown",
   "id": "18b506e8",
   "metadata": {},
   "source": []
  }
 ],
 "metadata": {
  "kernelspec": {
   "display_name": "Python 3 (ipykernel)",
   "language": "python",
   "name": "python3"
  },
  "language_info": {
   "codemirror_mode": {
    "name": "ipython",
    "version": 3
   },
   "file_extension": ".py",
   "mimetype": "text/x-python",
   "name": "python",
   "nbconvert_exporter": "python",
   "pygments_lexer": "ipython3",
   "version": "3.8.10"
  }
 },
 "nbformat": 4,
 "nbformat_minor": 5
}
